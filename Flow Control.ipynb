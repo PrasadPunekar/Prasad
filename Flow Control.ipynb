{
 "cells": [
  {
   "cell_type": "markdown",
   "id": "prerequisite-paste",
   "metadata": {},
   "source": [
    "# Conditional or Selection Statement"
   ]
  },
  {
   "cell_type": "markdown",
   "id": "inside-benjamin",
   "metadata": {},
   "source": [
    "* if condition"
   ]
  },
  {
   "cell_type": "code",
   "execution_count": 4,
   "id": "decent-central",
   "metadata": {},
   "outputs": [
    {
     "name": "stdout",
     "output_type": "stream",
     "text": [
      "Enter Name: Robort\n",
      "Hi Robort\n",
      "How are you?\n"
     ]
    }
   ],
   "source": [
    "name=input('Enter Name: ')\n",
    "if name=='Robort':\n",
    "    print('Hi Robort')\n",
    "print('How are you?')    "
   ]
  },
  {
   "cell_type": "markdown",
   "id": "naked-johnson",
   "metadata": {},
   "source": [
    "* if else condition"
   ]
  },
  {
   "cell_type": "code",
   "execution_count": 6,
   "id": "coordinate-palace",
   "metadata": {},
   "outputs": [
    {
     "name": "stdout",
     "output_type": "stream",
     "text": [
      "Enter Name:Robort\n",
      "Hi Robort\n",
      "Good Morning\n"
     ]
    }
   ],
   "source": [
    "name=input('Enter Name:')\n",
    "if name=='Robort':\n",
    "    print('Hi Robort')\n",
    "else:\n",
    "    print('Hi Guest')\n",
    "print('Good Morning')    \n",
    "    "
   ]
  },
  {
   "cell_type": "code",
   "execution_count": null,
   "id": "parental-great",
   "metadata": {},
   "outputs": [],
   "source": []
  },
  {
   "cell_type": "markdown",
   "id": "structured-friday",
   "metadata": {},
   "source": [
    "* WAP to find Smallest or biggest of 2 number"
   ]
  },
  {
   "cell_type": "code",
   "execution_count": 10,
   "id": "russian-grade",
   "metadata": {},
   "outputs": [
    {
     "name": "stdout",
     "output_type": "stream",
     "text": [
      "Enter first number:10\n",
      "Enter Second number:20\n",
      "Biggest number is \"b\": 20\n"
     ]
    }
   ],
   "source": [
    "a=int(input('Enter first number:'))\n",
    "b=int(input('Enter Second number:'))\n",
    "if a>b:\n",
    "    print('Biggest number is \"a\":',a)\n",
    "else:\n",
    "    print('Biggest number is \"b\":',b)"
   ]
  },
  {
   "cell_type": "code",
   "execution_count": null,
   "id": "super-curtis",
   "metadata": {},
   "outputs": [],
   "source": []
  },
  {
   "cell_type": "code",
   "execution_count": 12,
   "id": "armed-litigation",
   "metadata": {},
   "outputs": [
    {
     "name": "stdout",
     "output_type": "stream",
     "text": [
      "Enter first number:10\n",
      "Enter Second number:20\n",
      "Smallest number is \"a\": 10\n"
     ]
    }
   ],
   "source": [
    "a=int(input('Enter first number:'))\n",
    "b=int(input('Enter Second number:'))\n",
    "if a<b:\n",
    "    print('Smallest number is \"a\":',a)\n",
    "else:\n",
    "    print('Smallest number is \"b\":',b)"
   ]
  },
  {
   "cell_type": "code",
   "execution_count": null,
   "id": "thorough-trunk",
   "metadata": {},
   "outputs": [],
   "source": []
  },
  {
   "cell_type": "markdown",
   "id": "completed-alignment",
   "metadata": {},
   "source": [
    "* WAP to find Smallest or biggest of 3 number"
   ]
  },
  {
   "cell_type": "code",
   "execution_count": 3,
   "id": "backed-shakespeare",
   "metadata": {},
   "outputs": [
    {
     "name": "stdout",
     "output_type": "stream",
     "text": [
      "Enter first number:1\n",
      "Enter Second number:2\n",
      "Enter Third number:3\n",
      "Biggest number is \"c\": 3\n"
     ]
    }
   ],
   "source": [
    "a=int(input('Enter first number:'))\n",
    "b=int(input('Enter Second number:'))\n",
    "c=int(input('Enter Third number:'))\n",
    "if a>b and a>c:\n",
    "    print('Biggest number is \"a\":',a)\n",
    "elif b>c:\n",
    "    print('Biggest number is \"b\":',b)\n",
    "else:\n",
    "    print('Biggest number is \"c\":',c)\n",
    "    "
   ]
  },
  {
   "cell_type": "code",
   "execution_count": null,
   "id": "defined-mechanism",
   "metadata": {},
   "outputs": [],
   "source": []
  },
  {
   "cell_type": "code",
   "execution_count": 4,
   "id": "latest-inventory",
   "metadata": {},
   "outputs": [
    {
     "name": "stdout",
     "output_type": "stream",
     "text": [
      "Enter first number:2\n",
      "Enter Second number:3\n",
      "Enter Third number:1\n",
      "Smallest number is \"c\": 1\n"
     ]
    }
   ],
   "source": [
    "a=int(input('Enter first number:'))\n",
    "b=int(input('Enter Second number:'))\n",
    "c=int(input('Enter Third number:'))\n",
    "if a<b and a<c:\n",
    "    print('Smallest number is \"a\":',a)\n",
    "elif b<c:\n",
    "    print('Smallest number is \"b\":',b)\n",
    "else:\n",
    "    print('Smallest number is \"c\":',c)"
   ]
  },
  {
   "cell_type": "code",
   "execution_count": null,
   "id": "ordered-disorder",
   "metadata": {},
   "outputs": [],
   "source": []
  },
  {
   "cell_type": "markdown",
   "id": "mobile-bathroom",
   "metadata": {},
   "source": [
    "* WAP that given number is between 1 to 100"
   ]
  },
  {
   "cell_type": "code",
   "execution_count": 9,
   "id": "facial-emperor",
   "metadata": {},
   "outputs": [
    {
     "name": "stdout",
     "output_type": "stream",
     "text": [
      "Enter number:99\n",
      "Given number 99 is between 1 to 100\n"
     ]
    }
   ],
   "source": [
    "n=int(input('Enter number:'))\n",
    "if n>=1 and n<=100:\n",
    "    print('Given number {} is between 1 to 100'.format(n))\n",
    "else:\n",
    "    print('Please Enter number between 1 to 100')"
   ]
  },
  {
   "cell_type": "code",
   "execution_count": null,
   "id": "contemporary-inflation",
   "metadata": {},
   "outputs": [],
   "source": []
  },
  {
   "cell_type": "markdown",
   "id": "direct-control",
   "metadata": {},
   "source": [
    "* Digit to words conversion program between 0 to 9 : Case 1"
   ]
  },
  {
   "cell_type": "code",
   "execution_count": 17,
   "id": "ready-congress",
   "metadata": {},
   "outputs": [
    {
     "name": "stdout",
     "output_type": "stream",
     "text": [
      "Enter number between 0 to 9 : 9\n",
      "nine\n"
     ]
    }
   ],
   "source": [
    "n=int(input('Enter number between 0 to 9 : '))\n",
    "d={1:'one',2:'two',3:'three',4:'four',5:'five',6:'six',7:'seven',8:'eight',9:'nine',0:'zero'}\n",
    "if n>=0 and n<=9: \n",
    "    print(d[n])\n",
    "else:\n",
    "    print('Please Enter number between 0 to 9')"
   ]
  },
  {
   "cell_type": "markdown",
   "id": "domestic-barbados",
   "metadata": {},
   "source": [
    "* case2"
   ]
  },
  {
   "cell_type": "code",
   "execution_count": 24,
   "id": "descending-protection",
   "metadata": {},
   "outputs": [
    {
     "name": "stdout",
     "output_type": "stream",
     "text": [
      "Enter number between 0 to 9 : 99\n",
      "Please Enter number between 0 to 9\n"
     ]
    }
   ],
   "source": [
    "n=int(input('Enter number between 0 to 9 : '))\n",
    "l=['zero','one','two','three','four','five','six','seven','eight','nine']\n",
    "if n>=0 and n<=9: \n",
    "    print(l[n])\n",
    "else:\n",
    "    print('Please Enter number between 0 to 9')"
   ]
  },
  {
   "cell_type": "code",
   "execution_count": null,
   "id": "innocent-arrow",
   "metadata": {},
   "outputs": [],
   "source": []
  },
  {
   "cell_type": "code",
   "execution_count": 27,
   "id": "mighty-pledge",
   "metadata": {},
   "outputs": [
    {
     "name": "stdout",
     "output_type": "stream",
     "text": [
      "Enter number between 0 to 99 : 88\n",
      "EIGHTY EIGHT\n"
     ]
    }
   ],
   "source": [
    "n=int(input('Enter number between 0 to 99 : '))\n",
    "words_0to19 =['','ONE','TWO','THREE','FOUR','FIVE','SIX',\n",
    "'SEVEN','EIGHT','NINE','TEN','ELEVEN','TWELVE','THIRTEEN',\n",
    "'FOURTEEN','FIFTEEN','SIXTEEN','SEVENTEEN','EIGHTEEN','NINETEEN']\n",
    "words_20to99=['','','TWENTY','THIRTY','FOURTY','FIFTY','SIXTY','SEVENTY','EIGHTY','NINETY']\n",
    "result=''\n",
    "if n==0:\n",
    "    print('ZERO')\n",
    "elif n<=19:\n",
    "     print(words_0to19[n])\n",
    "elif n<=99:\n",
    "    print(words_20to99[n//10]+' '+words_0to19[n%10])\n",
    "else:\n",
    "    print('Please enter word between 0 to 99 only')"
   ]
  },
  {
   "cell_type": "code",
   "execution_count": null,
   "id": "french-bryan",
   "metadata": {},
   "outputs": [],
   "source": []
  },
  {
   "cell_type": "markdown",
   "id": "satellite-yahoo",
   "metadata": {},
   "source": [
    "# Iterative Statement (For Loop)"
   ]
  },
  {
   "cell_type": "markdown",
   "id": "short-smart",
   "metadata": {},
   "source": [
    "* Example 1"
   ]
  },
  {
   "cell_type": "code",
   "execution_count": 29,
   "id": "driven-attempt",
   "metadata": {},
   "outputs": [
    {
     "name": "stdout",
     "output_type": "stream",
     "text": [
      "Enter Name:Robort\n",
      "Robort"
     ]
    }
   ],
   "source": [
    "name=input('Enter Name:')\n",
    "for i in name:\n",
    "    print(i,end='')"
   ]
  },
  {
   "cell_type": "markdown",
   "id": "difficult-sunglasses",
   "metadata": {},
   "source": [
    "* Example 2"
   ]
  },
  {
   "cell_type": "code",
   "execution_count": 30,
   "id": "received-myrtle",
   "metadata": {},
   "outputs": [
    {
     "name": "stdout",
     "output_type": "stream",
     "text": [
      "Enter Name:Robort\n",
      "Index of character R is 0\n",
      "Index of character o is 1\n",
      "Index of character b is 2\n",
      "Index of character o is 3\n",
      "Index of character r is 4\n",
      "Index of character t is 5\n"
     ]
    }
   ],
   "source": [
    "#by using replacement operator\n",
    "name=input('Enter Name:')\n",
    "i=0\n",
    "for x in name:\n",
    "    print('Index of character {} is {}'.format(x,i))\n",
    "    i+=1"
   ]
  },
  {
   "cell_type": "code",
   "execution_count": 31,
   "id": "understood-mobile",
   "metadata": {},
   "outputs": [
    {
     "name": "stdout",
     "output_type": "stream",
     "text": [
      "Enter Name:Robort\n",
      "Index of character \"R\" is \"0\"\n",
      "Index of character \"o\" is \"1\"\n",
      "Index of character \"b\" is \"2\"\n",
      "Index of character \"o\" is \"3\"\n",
      "Index of character \"r\" is \"4\"\n",
      "Index of character \"t\" is \"5\"\n"
     ]
    }
   ],
   "source": [
    "#by using format string\n",
    "name=input('Enter Name:')\n",
    "i=0\n",
    "for x in name:\n",
    "    print('Index of character \"%s\" is \"%i\"' %(x,i))\n",
    "    i+=1"
   ]
  },
  {
   "cell_type": "code",
   "execution_count": null,
   "id": "bottom-vaccine",
   "metadata": {},
   "outputs": [],
   "source": []
  },
  {
   "cell_type": "markdown",
   "id": "regulation-thirty",
   "metadata": {},
   "source": [
    "* To print \"Hello\" 10 times"
   ]
  },
  {
   "cell_type": "code",
   "execution_count": 33,
   "id": "humanitarian-poland",
   "metadata": {},
   "outputs": [
    {
     "name": "stdout",
     "output_type": "stream",
     "text": [
      "Hello\n",
      "Hello\n",
      "Hello\n",
      "Hello\n",
      "Hello\n",
      "Hello\n",
      "Hello\n",
      "Hello\n",
      "Hello\n",
      "Hello\n"
     ]
    }
   ],
   "source": [
    "for x in range(10):\n",
    "    print('Hello')"
   ]
  },
  {
   "cell_type": "code",
   "execution_count": 34,
   "id": "homeless-earth",
   "metadata": {},
   "outputs": [
    {
     "name": "stdout",
     "output_type": "stream",
     "text": [
      "Hello\n",
      "Hello\n",
      "Hello\n",
      "Hello\n",
      "Hello\n",
      "Hello\n",
      "Hello\n",
      "Hello\n",
      "Hello\n",
      "Hello\n"
     ]
    }
   ],
   "source": [
    "for x in range(0,10):\n",
    "    print('Hello')"
   ]
  },
  {
   "cell_type": "code",
   "execution_count": null,
   "id": "secondary-japanese",
   "metadata": {},
   "outputs": [],
   "source": []
  },
  {
   "cell_type": "markdown",
   "id": "detailed-backup",
   "metadata": {},
   "source": [
    "* #To display numbers from 0 to 10"
   ]
  },
  {
   "cell_type": "code",
   "execution_count": 35,
   "id": "generic-projection",
   "metadata": {},
   "outputs": [
    {
     "name": "stdout",
     "output_type": "stream",
     "text": [
      "0\n",
      "1\n",
      "2\n",
      "3\n",
      "4\n",
      "5\n",
      "6\n",
      "7\n",
      "8\n",
      "9\n",
      "10\n"
     ]
    }
   ],
   "source": [
    "for x in range(11):\n",
    "    print(x)"
   ]
  },
  {
   "cell_type": "code",
   "execution_count": null,
   "id": "defined-olive",
   "metadata": {},
   "outputs": [],
   "source": []
  },
  {
   "cell_type": "markdown",
   "id": "sustainable-pakistan",
   "metadata": {},
   "source": [
    "* To display odd numbers from 0 to 20"
   ]
  },
  {
   "cell_type": "code",
   "execution_count": 37,
   "id": "exclusive-george",
   "metadata": {},
   "outputs": [
    {
     "name": "stdout",
     "output_type": "stream",
     "text": [
      "1\n",
      "3\n",
      "5\n",
      "7\n",
      "9\n",
      "11\n",
      "13\n",
      "15\n",
      "17\n",
      "19\n"
     ]
    }
   ],
   "source": [
    "for x in range(0,21):\n",
    "    if x%2!=0:\n",
    "        print(x)"
   ]
  },
  {
   "cell_type": "code",
   "execution_count": null,
   "id": "computational-banks",
   "metadata": {},
   "outputs": [],
   "source": []
  },
  {
   "cell_type": "markdown",
   "id": "proprietary-dress",
   "metadata": {},
   "source": [
    "* To display numbers from 10 to 1 "
   ]
  },
  {
   "cell_type": "code",
   "execution_count": 38,
   "id": "subjective-while",
   "metadata": {},
   "outputs": [
    {
     "name": "stdout",
     "output_type": "stream",
     "text": [
      "10\n",
      "9\n",
      "8\n",
      "7\n",
      "6\n",
      "5\n",
      "4\n",
      "3\n",
      "2\n",
      "1\n"
     ]
    }
   ],
   "source": [
    "for x in range(10,0,-1):\n",
    "    print(x)"
   ]
  },
  {
   "cell_type": "code",
   "execution_count": null,
   "id": "gothic-supervision",
   "metadata": {},
   "outputs": [],
   "source": []
  },
  {
   "cell_type": "markdown",
   "id": "measured-comparative",
   "metadata": {},
   "source": [
    "* To print sum of numbers presenst inside list"
   ]
  },
  {
   "cell_type": "code",
   "execution_count": 59,
   "id": "julian-taste",
   "metadata": {},
   "outputs": [
    {
     "name": "stdout",
     "output_type": "stream",
     "text": [
      "Enter number[10,20]\n",
      "30\n"
     ]
    }
   ],
   "source": [
    "l=eval(input('Enter number'))\n",
    "sum=0\n",
    "for x in l:\n",
    "    sum+=x\n",
    "print(sum)    "
   ]
  },
  {
   "cell_type": "code",
   "execution_count": null,
   "id": "ideal-iraqi",
   "metadata": {},
   "outputs": [],
   "source": []
  },
  {
   "cell_type": "markdown",
   "id": "sufficient-premises",
   "metadata": {},
   "source": [
    "# Iterative statement (while loop)"
   ]
  },
  {
   "cell_type": "code",
   "execution_count": 6,
   "id": "legitimate-syria",
   "metadata": {},
   "outputs": [
    {
     "name": "stdout",
     "output_type": "stream",
     "text": [
      "0 1 2 3 4 5 6 7 8 9 10 "
     ]
    }
   ],
   "source": [
    "#Basic code\n",
    "##print 1 to 10 time\n",
    "i=0\n",
    "while(i<=10): \n",
    "    print(i,end=' ')\n",
    "    i+=1"
   ]
  },
  {
   "cell_type": "code",
   "execution_count": 2,
   "id": "typical-liberia",
   "metadata": {},
   "outputs": [
    {
     "name": "stdout",
     "output_type": "stream",
     "text": [
      "Hello\n",
      "Hello\n",
      "Hello\n",
      "Hello\n",
      "Hello\n",
      "Hello\n",
      "Hello\n",
      "Hello\n",
      "Hello\n",
      "Hello\n"
     ]
    }
   ],
   "source": [
    "##print \"Hello\" 10 time's\n",
    "i=1\n",
    "while(i<=10):\n",
    "    print('Hello')\n",
    "    i+=1"
   ]
  },
  {
   "cell_type": "code",
   "execution_count": 4,
   "id": "aggregate-perry",
   "metadata": {},
   "outputs": [
    {
     "name": "stdout",
     "output_type": "stream",
     "text": [
      "1 Hello\n",
      "2 Hello\n",
      "3 Hello\n",
      "4 Hello\n",
      "5 Hello\n",
      "6 Hello\n",
      "7 Hello\n",
      "8 Hello\n",
      "9 Hello\n",
      "10 Hello\n"
     ]
    }
   ],
   "source": [
    "i=1\n",
    "while(i<=10):\n",
    "    print(i, 'Hello')\n",
    "    i+=1"
   ]
  },
  {
   "cell_type": "code",
   "execution_count": null,
   "id": "informative-event",
   "metadata": {},
   "outputs": [],
   "source": []
  },
  {
   "cell_type": "markdown",
   "id": "competent-foster",
   "metadata": {},
   "source": [
    "* To Print a number between 1 to 20 which is  divisible by 3"
   ]
  },
  {
   "cell_type": "code",
   "execution_count": 9,
   "id": "pretty-computer",
   "metadata": {},
   "outputs": [
    {
     "name": "stdout",
     "output_type": "stream",
     "text": [
      "3\n",
      "6\n",
      "9\n",
      "12\n",
      "15\n",
      "18\n"
     ]
    }
   ],
   "source": [
    "i=1\n",
    "while(i<=20):\n",
    "    if i%3==0:\n",
    "        print(i)\n",
    "    i+=1"
   ]
  },
  {
   "cell_type": "code",
   "execution_count": null,
   "id": "animated-rocket",
   "metadata": {},
   "outputs": [],
   "source": []
  },
  {
   "cell_type": "markdown",
   "id": "stylish-speaker",
   "metadata": {},
   "source": [
    "* To display the sum of first n numbers"
   ]
  },
  {
   "cell_type": "code",
   "execution_count": 5,
   "id": "german-airplane",
   "metadata": {},
   "outputs": [
    {
     "name": "stdout",
     "output_type": "stream",
     "text": [
      "Enter number : 5\n",
      "15\n"
     ]
    }
   ],
   "source": [
    "n=int(input('Enter number : '))\n",
    "sum=0\n",
    "i=1\n",
    "while(i<=n):\n",
    "    sum+=i #sum=sum+i\n",
    "    i+=1  #i=i+1\n",
    "print(sum)    "
   ]
  },
  {
   "cell_type": "code",
   "execution_count": null,
   "id": "charming-barrier",
   "metadata": {},
   "outputs": [],
   "source": []
  },
  {
   "cell_type": "markdown",
   "id": "military-radio",
   "metadata": {},
   "source": [
    "* Write a table"
   ]
  },
  {
   "cell_type": "code",
   "execution_count": 7,
   "id": "premier-juice",
   "metadata": {},
   "outputs": [
    {
     "name": "stdout",
     "output_type": "stream",
     "text": [
      "Enter number : 2\n",
      "2 * 1 =  2\n",
      "2 * 2 =  4\n",
      "2 * 3 =  6\n",
      "2 * 4 =  8\n",
      "2 * 5 =  10\n",
      "2 * 6 =  12\n",
      "2 * 7 =  14\n",
      "2 * 8 =  16\n",
      "2 * 9 =  18\n",
      "2 * 10 =  20\n"
     ]
    }
   ],
   "source": [
    "n=int(input('Enter number : '))\n",
    "i=1\n",
    "while(i<=10):\n",
    "    print('{} * {} = '.format(n,i),n*i)\n",
    "    i+=1"
   ]
  },
  {
   "cell_type": "code",
   "execution_count": null,
   "id": "editorial-folks",
   "metadata": {},
   "outputs": [],
   "source": []
  },
  {
   "cell_type": "markdown",
   "id": "mounted-correspondence",
   "metadata": {},
   "source": [
    "* Write a program to prompt user to enter some name until entering Robort"
   ]
  },
  {
   "cell_type": "code",
   "execution_count": 16,
   "id": "compressed-virginia",
   "metadata": {},
   "outputs": [
    {
     "name": "stdout",
     "output_type": "stream",
     "text": [
      "Enter Name:Robort\n",
      "Thank you Robort\n"
     ]
    }
   ],
   "source": [
    "name=''\n",
    "while(name!='Robort'):\n",
    "    name=input('Enter Name:')\n",
    "print('Thank you Robort')    \n",
    "    "
   ]
  },
  {
   "cell_type": "code",
   "execution_count": null,
   "id": "graphic-fiction",
   "metadata": {},
   "outputs": [],
   "source": []
  },
  {
   "cell_type": "markdown",
   "id": "sufficient-roommate",
   "metadata": {},
   "source": [
    "* Infinite loop"
   ]
  },
  {
   "cell_type": "code",
   "execution_count": null,
   "id": "reliable-destination",
   "metadata": {},
   "outputs": [],
   "source": [
    "i=0\n",
    "while(i<=10):\n",
    "    print(i)\n",
    "i+=1"
   ]
  },
  {
   "cell_type": "code",
   "execution_count": null,
   "id": "baking-danger",
   "metadata": {},
   "outputs": [],
   "source": []
  },
  {
   "cell_type": "markdown",
   "id": "willing-highway",
   "metadata": {},
   "source": [
    "* Nested loop"
   ]
  },
  {
   "cell_type": "code",
   "execution_count": 19,
   "id": "deadly-seafood",
   "metadata": {},
   "outputs": [
    {
     "name": "stdout",
     "output_type": "stream",
     "text": [
      "0 0\n",
      "0 1\n",
      "0 2\n",
      "1 0\n",
      "1 1\n",
      "1 2\n",
      "2 0\n",
      "2 1\n",
      "2 2\n"
     ]
    }
   ],
   "source": [
    "for i in range(3):\n",
    "    for j in range(3):\n",
    "        print(i,j)"
   ]
  },
  {
   "cell_type": "code",
   "execution_count": null,
   "id": "induced-mining",
   "metadata": {},
   "outputs": [],
   "source": []
  },
  {
   "cell_type": "markdown",
   "id": "academic-hampton",
   "metadata": {},
   "source": [
    "* Pattern"
   ]
  },
  {
   "cell_type": "code",
   "execution_count": 2,
   "id": "overall-people",
   "metadata": {},
   "outputs": [
    {
     "name": "stdout",
     "output_type": "stream",
     "text": [
      "Enter value for n:5\n",
      "* * * * * "
     ]
    }
   ],
   "source": [
    "# Print * * * *\n",
    "n=int(input('Enter value for n:'))\n",
    "for i in range(n):\n",
    "    print('*',end=' ')"
   ]
  },
  {
   "cell_type": "code",
   "execution_count": null,
   "id": "vanilla-writer",
   "metadata": {},
   "outputs": [],
   "source": []
  },
  {
   "cell_type": "code",
   "execution_count": 10,
   "id": "anticipated-worry",
   "metadata": {},
   "outputs": [
    {
     "name": "stdout",
     "output_type": "stream",
     "text": [
      "Enter value for n:5\n",
      "* * * * * \n",
      "* * * * * \n",
      "* * * * * \n",
      "* * * * * \n",
      "* * * * * \n"
     ]
    }
   ],
   "source": [
    "#print * * *\n",
    "#      * * *\n",
    "#      * * *\n",
    "#case 1\n",
    "n=int(input('Enter value for n:'))\n",
    "for i in range(n):\n",
    "    for j in range(n):\n",
    "        print('*',end=' ')\n",
    "    print()        \n",
    "      "
   ]
  },
  {
   "cell_type": "code",
   "execution_count": 11,
   "id": "hourly-humanity",
   "metadata": {},
   "outputs": [
    {
     "name": "stdout",
     "output_type": "stream",
     "text": [
      "Enter n value :4\n",
      "* * * * \n",
      "* * * * \n",
      "* * * * \n",
      "* * * * \n"
     ]
    }
   ],
   "source": [
    "#case 2\n",
    "n=int(input('Enter n value :'))       \n",
    "for i in range(n):\n",
    "    print('* '*n)"
   ]
  },
  {
   "cell_type": "code",
   "execution_count": null,
   "id": "complimentary-pantyhose",
   "metadata": {},
   "outputs": [],
   "source": []
  },
  {
   "cell_type": "code",
   "execution_count": null,
   "id": "detected-grill",
   "metadata": {},
   "outputs": [],
   "source": [
    "#Print\n",
    "#1 1 1 1 1\n",
    "#2 2 2 2 2\n",
    "#3 3 3 3 3\n",
    "#4 4 4 4 4\n",
    "#5 5 5 5 5"
   ]
  },
  {
   "cell_type": "code",
   "execution_count": 15,
   "id": "double-coffee",
   "metadata": {},
   "outputs": [
    {
     "name": "stdout",
     "output_type": "stream",
     "text": [
      "Enter value for n:5\n",
      "1 1 1 1 1 \n",
      "2 2 2 2 2 \n",
      "3 3 3 3 3 \n",
      "4 4 4 4 4 \n",
      "5 5 5 5 5 \n"
     ]
    }
   ],
   "source": [
    "n=int(input('Enter value for n:'))\n",
    "for i in range(1,n+1):\n",
    "    for j in range(1,n+1):\n",
    "        print(i,end=' ')\n",
    "    print()   "
   ]
  },
  {
   "cell_type": "code",
   "execution_count": null,
   "id": "hispanic-packaging",
   "metadata": {},
   "outputs": [],
   "source": []
  },
  {
   "cell_type": "code",
   "execution_count": 17,
   "id": "manufactured-monthly",
   "metadata": {},
   "outputs": [
    {
     "name": "stdout",
     "output_type": "stream",
     "text": [
      "Enter value for n:5\n",
      "A A A A A \n",
      "B B B B B \n",
      "C C C C C \n",
      "D D D D D \n",
      "E E E E E \n"
     ]
    }
   ],
   "source": [
    "#To print square pattern with alphabet symbol\n",
    "n=int(input('Enter value for n:'))\n",
    "for i in range(n):\n",
    "    for j in range(n):\n",
    "        print(chr(65+i),end=' ')\n",
    "    print() "
   ]
  },
  {
   "cell_type": "code",
   "execution_count": null,
   "id": "loaded-difficulty",
   "metadata": {},
   "outputs": [],
   "source": []
  },
  {
   "cell_type": "code",
   "execution_count": 22,
   "id": "distant-battery",
   "metadata": {},
   "outputs": [
    {
     "name": "stdout",
     "output_type": "stream",
     "text": [
      "Enter value for n:4\n",
      "\n",
      "* \n",
      "* * \n",
      "* * * \n",
      "* * * * \n"
     ]
    }
   ],
   "source": [
    "# i=0 *     0+1\n",
    "# i=1 **    1+1\n",
    "# i=2 ***   2+1\n",
    "\n",
    "#case 1\n",
    "n=int(input('Enter value for n:'))\n",
    "for i in range(n+1):\n",
    "    for j in range(i):\n",
    "        print('*',end=' ')\n",
    "    print()   "
   ]
  },
  {
   "cell_type": "code",
   "execution_count": 23,
   "id": "violent-worst",
   "metadata": {},
   "outputs": [
    {
     "name": "stdout",
     "output_type": "stream",
     "text": [
      "Enter value for n:4\n",
      "* \n",
      "* * \n",
      "* * * \n",
      "* * * * \n"
     ]
    }
   ],
   "source": [
    "#case 2\n",
    "n=int(input('Enter value for n:'))\n",
    "for i in range(n):\n",
    "    for j in range(i+1):\n",
    "        print('*',end=' ')\n",
    "    print()   "
   ]
  },
  {
   "cell_type": "code",
   "execution_count": 24,
   "id": "caroline-bridges",
   "metadata": {},
   "outputs": [
    {
     "name": "stdout",
     "output_type": "stream",
     "text": [
      "Enter value of n :4\n",
      "* \n",
      "* * \n",
      "* * * \n",
      "* * * * \n"
     ]
    }
   ],
   "source": [
    "#case 3\n",
    "n=int(input('Enter value of n :'))\n",
    "for i in range(n):\n",
    "     print('* '*(i+1))"
   ]
  },
  {
   "cell_type": "code",
   "execution_count": null,
   "id": "automated-dimension",
   "metadata": {},
   "outputs": [],
   "source": []
  },
  {
   "cell_type": "code",
   "execution_count": 27,
   "id": "antique-consequence",
   "metadata": {},
   "outputs": [
    {
     "name": "stdout",
     "output_type": "stream",
     "text": [
      "Enter value for n:3\n",
      "* * * \n",
      "* * \n",
      "* \n"
     ]
    }
   ],
   "source": [
    "# i=0 *** n-0\n",
    "# i=1 **  n-1\n",
    "# i=2 *   n-2\n",
    "\n",
    "#case 1\n",
    "n=int(input('Enter value for n:'))\n",
    "for i in range(n):\n",
    "    for j in range(n-i):\n",
    "        print('*',end=' ')\n",
    "    print()    "
   ]
  },
  {
   "cell_type": "code",
   "execution_count": 28,
   "id": "thirty-dryer",
   "metadata": {},
   "outputs": [
    {
     "name": "stdout",
     "output_type": "stream",
     "text": [
      "Enter value of n :4\n",
      "* * * * \n",
      "* * * \n",
      "* * \n",
      "* \n"
     ]
    }
   ],
   "source": [
    "#case 2\n",
    "n=int(input('Enter value of n :'))\n",
    "for i in range(n):\n",
    "    print('* '*(n-i))"
   ]
  },
  {
   "cell_type": "code",
   "execution_count": null,
   "id": "increased-shape",
   "metadata": {},
   "outputs": [],
   "source": []
  },
  {
   "cell_type": "code",
   "execution_count": null,
   "id": "religious-mainland",
   "metadata": {},
   "outputs": [],
   "source": [
    "# Pyramid of * n=4\n",
    "# 0 0 0 *             i=0\n",
    "# 0 0 *   *           i=1\n",
    "# 0 *   *   *         i=2\n",
    "# *   *   *   *       i=3\n",
    "\n",
    "# Note : 0 means number of spaces\n",
    "    \n",
    "# formula : no_of_space = (n-i-1)\n",
    "#           no_of_star  = (i+1)"
   ]
  },
  {
   "cell_type": "code",
   "execution_count": 30,
   "id": "simple-scale",
   "metadata": {},
   "outputs": [
    {
     "name": "stdout",
     "output_type": "stream",
     "text": [
      "Enter value of n :5\n",
      "    * \n",
      "   * * \n",
      "  * * * \n",
      " * * * * \n",
      "* * * * * \n"
     ]
    }
   ],
   "source": [
    "n=int(input('Enter value of n :'))\n",
    "for i in range(n):\n",
    "    print(' '*(n-i-1)+'* '*(i+1))"
   ]
  },
  {
   "cell_type": "code",
   "execution_count": 32,
   "id": "removed-motel",
   "metadata": {},
   "outputs": [
    {
     "name": "stdout",
     "output_type": "stream",
     "text": [
      "Enter value of n :5\n",
      "* * * * * \n",
      " * * * * \n",
      "  * * * \n",
      "   * * \n",
      "    * \n"
     ]
    }
   ],
   "source": [
    "# Inverted Pyramid of \n",
    "#\n",
    "# *   *   *   *  i=0\n",
    "# 0 *   *   *    i=1 \n",
    "# 0 0 *   *      i=2\n",
    "# 0 0 0 *        i=3\n",
    "\n",
    "# Note : 0 means number of spaces\n",
    "    \n",
    "# formula : no_of_space = (i)\n",
    "#           no_of_star  = (n-i)\n",
    "\n",
    "\n",
    "n=int(input('Enter value of n :'))\n",
    "for i in range(n):\n",
    "    print(' '*(i)+'* '*(n-i))\n"
   ]
  },
  {
   "cell_type": "code",
   "execution_count": null,
   "id": "indie-recording",
   "metadata": {},
   "outputs": [],
   "source": []
  },
  {
   "cell_type": "code",
   "execution_count": 33,
   "id": "complimentary-polish",
   "metadata": {},
   "outputs": [
    {
     "name": "stdout",
     "output_type": "stream",
     "text": [
      "Enter value of n :5\n",
      "    * \n",
      "   * * \n",
      "  * * * \n",
      " * * * * \n",
      "* * * * * \n",
      " * * * * \n",
      "  * * * \n",
      "   * * \n",
      "    * \n"
     ]
    }
   ],
   "source": [
    "# diamond of *'s'\n",
    "\n",
    "# 0 0 0 *\n",
    "# 0 0 *   *\n",
    "# 0 *   *   *\n",
    "# *   *   *   *\n",
    "# 0 *   *   *\n",
    "# 0 0 *   *\n",
    "# 0 0 0 *\n",
    "\n",
    "# Note : 0 means number of spaces\n",
    "# formula : no_of_space = (n-i-1)\n",
    "#           no_of_star  = (i+1)\n",
    "\n",
    "# formula : no_of_space = (i+1)\n",
    "#           no_of_star  = (n-i-1)\n",
    "\n",
    "n=int(input('Enter value of n :'))\n",
    "for i in range(n):\n",
    "    print((' ')*(n-i-1) + ('* ')*(i+1))\n",
    "for i in range(n-1):\n",
    "    print((' ')*(i+1) + ('* ')*(n-i-1))  "
   ]
  },
  {
   "cell_type": "code",
   "execution_count": null,
   "id": "assured-hardwood",
   "metadata": {},
   "outputs": [],
   "source": []
  },
  {
   "cell_type": "markdown",
   "id": "temporal-solomon",
   "metadata": {},
   "source": [
    "# Transfer statement (\"Break statement\")"
   ]
  },
  {
   "cell_type": "markdown",
   "id": "minus-credits",
   "metadata": {},
   "source": [
    "*Example 1"
   ]
  },
  {
   "cell_type": "code",
   "execution_count": 39,
   "id": "engaging-pregnancy",
   "metadata": {},
   "outputs": [
    {
     "name": "stdout",
     "output_type": "stream",
     "text": [
      "0\n",
      "1\n",
      "2\n",
      "3\n",
      "4\n",
      "5\n",
      "6\n",
      "Break statement Execute\n",
      "Out of loop\n"
     ]
    }
   ],
   "source": [
    "for i in range(10):\n",
    "    if i==7:\n",
    "        print('Break statement Execute')\n",
    "        break\n",
    "    print(i)    \n",
    "print('Out of loop')        "
   ]
  },
  {
   "cell_type": "code",
   "execution_count": null,
   "id": "gothic-living",
   "metadata": {},
   "outputs": [],
   "source": []
  },
  {
   "cell_type": "markdown",
   "id": "attended-found",
   "metadata": {},
   "source": [
    "*Example 2:"
   ]
  },
  {
   "cell_type": "code",
   "execution_count": 42,
   "id": "answering-bundle",
   "metadata": {},
   "outputs": [
    {
     "name": "stdout",
     "output_type": "stream",
     "text": [
      "Processed item are : 10\n",
      "Processed item are : 20\n",
      "Processed item are : 30\n",
      "Processed item are : 400\n",
      "Insurance required for this item:  500\n",
      "Please do Insurance for above item: 500\n"
     ]
    }
   ],
   "source": [
    "cart=[10,20,30,400,500,600,70,80]\n",
    "for item in cart:\n",
    "    if item>=500:\n",
    "        print('Insurance required for this item: ',item)\n",
    "        break\n",
    "    print('Processed item are :',item)\n",
    "print('Please do Insurance for above item:',item)    \n",
    "    "
   ]
  },
  {
   "cell_type": "code",
   "execution_count": null,
   "id": "conceptual-healthcare",
   "metadata": {},
   "outputs": [],
   "source": [
    "#Note : we have to compulsory use \"break\" and \"continue\" statement inside Iterative statement(For loop and while loop)\n",
    "\n",
    "#x=10\n",
    "#if x>40:\n",
    "#    print('Stop loop')\n",
    "#    break\n",
    "#print('Hello')\n",
    "\n",
    "#  File \"main.py\", line 26\n",
    "#    break\n",
    "#    ^\n",
    "#SyntaxError: 'break' outside loop\n"
   ]
  },
  {
   "cell_type": "code",
   "execution_count": null,
   "id": "brazilian-newspaper",
   "metadata": {},
   "outputs": [],
   "source": []
  },
  {
   "cell_type": "markdown",
   "id": "boxed-buyer",
   "metadata": {},
   "source": [
    "# Transfer statement (continue statement) "
   ]
  },
  {
   "cell_type": "code",
   "execution_count": null,
   "id": "automatic-world",
   "metadata": {},
   "outputs": [],
   "source": [
    "#Note:Note : we have to compulsory use \"break\" and \"continue\" statement inside Iterative statement(For loop and while loop)\n",
    "#Note:continue statement skip \"current iteration\" and \"continue next iteration\""
   ]
  },
  {
   "cell_type": "code",
   "execution_count": 44,
   "id": "expected-little",
   "metadata": {},
   "outputs": [
    {
     "name": "stdout",
     "output_type": "stream",
     "text": [
      "0\n",
      "1\n",
      "2\n",
      "3\n",
      "4\n",
      "5\n",
      "6\n",
      "Continue statement executed\n",
      "8\n",
      "9\n",
      "Out of Loop\n"
     ]
    }
   ],
   "source": [
    "#Example 1\n",
    "for i in range(10):\n",
    "    if i==7:\n",
    "        print('Continue statement executed')\n",
    "        continue\n",
    "    print(i)\n",
    "print('Out of Loop')    "
   ]
  },
  {
   "cell_type": "code",
   "execution_count": 46,
   "id": "finnish-consideration",
   "metadata": {},
   "outputs": [
    {
     "name": "stdout",
     "output_type": "stream",
     "text": [
      "Processed item are : 10\n",
      "Processed item are : 20\n",
      "Processed item are : 30\n",
      "Processed item are : 400\n",
      "Insurance required for this item:  500\n",
      "Insurance required for this item:  600\n",
      "Processed item are : 70\n",
      "Processed item are : 80\n",
      "Please do Insurance for item above less the equal to $500:\n"
     ]
    }
   ],
   "source": [
    "#Example 2\n",
    "cart=[10,20,30,400,500,600,70,80]\n",
    "for item in cart:\n",
    "    if item>=500:\n",
    "        print('Insurance required for this item: ',item)\n",
    "        continue\n",
    "    print('Processed item are :',item)\n",
    "print('Please do Insurance for item above less the equal to $500:') "
   ]
  },
  {
   "cell_type": "code",
   "execution_count": 47,
   "id": "handled-gazette",
   "metadata": {},
   "outputs": [
    {
     "name": "stdout",
     "output_type": "stream",
     "text": [
      "1\n",
      "3\n",
      "5\n",
      "7\n",
      "9\n",
      "Out of Loop\n"
     ]
    }
   ],
   "source": [
    "#Example 3 \n",
    "# Find odd number\n",
    "for i in range(10):\n",
    "    if i%2==0:\n",
    "        continue\n",
    "    print(i)\n",
    "print('Out of Loop')    "
   ]
  },
  {
   "cell_type": "code",
   "execution_count": null,
   "id": "purple-laugh",
   "metadata": {},
   "outputs": [],
   "source": []
  },
  {
   "cell_type": "markdown",
   "id": "revised-invalid",
   "metadata": {},
   "source": [
    "# Break and continue statement in one code"
   ]
  },
  {
   "cell_type": "code",
   "execution_count": 48,
   "id": "upper-newfoundland",
   "metadata": {},
   "outputs": [
    {
     "name": "stdout",
     "output_type": "stream",
     "text": [
      "Processed item are :  10\n",
      "Processed item are :  20\n",
      "Processed item are :  30\n",
      "Insurance Required for item :  500\n",
      "Insurance Required for item :  600\n",
      "Insurance Required for item :  700\n",
      "Processed item are :  70\n",
      "Processed item are :  80\n",
      "Insurance Required for item :  1000\n",
      "Cannot Process need approval for this item:  2000\n",
      "Out of loop\n"
     ]
    }
   ],
   "source": [
    "l=[10,20,30,500,600,700,70,80,1000,2000,40,60]\n",
    "for i in l:\n",
    "    if i>=500 and i<=1000:\n",
    "        print('Insurance Required for item : ',i)\n",
    "        continue\n",
    "    elif i>1000:\n",
    "        print('Cannot Process need approval for this item: ',i)\n",
    "        break\n",
    "    print('Processed item are : ',i)\n",
    "print('Out of loop')        "
   ]
  },
  {
   "cell_type": "code",
   "execution_count": null,
   "id": "settled-ivory",
   "metadata": {},
   "outputs": [],
   "source": []
  },
  {
   "cell_type": "markdown",
   "id": "surprised-insertion",
   "metadata": {},
   "source": [
    "# Break and continue statement in nested loop"
   ]
  },
  {
   "cell_type": "code",
   "execution_count": 50,
   "id": "suitable-newton",
   "metadata": {},
   "outputs": [
    {
     "name": "stdout",
     "output_type": "stream",
     "text": [
      "1 0\n",
      "2 0\n",
      "2 1\n",
      "3 0\n",
      "3 1\n",
      "3 2\n"
     ]
    }
   ],
   "source": [
    "#Example 1: Using break statement\n",
    "for i in range(4):\n",
    "    for j in range(4):\n",
    "        if i==j:\n",
    "            break\n",
    "        print(i,j)       "
   ]
  },
  {
   "cell_type": "code",
   "execution_count": 51,
   "id": "herbal-desperate",
   "metadata": {},
   "outputs": [
    {
     "name": "stdout",
     "output_type": "stream",
     "text": [
      "0 1\n",
      "0 2\n",
      "0 3\n",
      "1 0\n",
      "1 2\n",
      "1 3\n",
      "2 0\n",
      "2 1\n",
      "2 3\n",
      "3 0\n",
      "3 1\n",
      "3 2\n"
     ]
    }
   ],
   "source": [
    "#Example 2: Using break continue\n",
    "for i in range(4):\n",
    "    for j in range(4):\n",
    "        if i==j:\n",
    "            continue\n",
    "        print(i,j)  "
   ]
  },
  {
   "cell_type": "code",
   "execution_count": null,
   "id": "personal-carnival",
   "metadata": {},
   "outputs": [],
   "source": []
  },
  {
   "cell_type": "markdown",
   "id": "chicken-franchise",
   "metadata": {},
   "source": [
    "# loop with else block"
   ]
  },
  {
   "cell_type": "code",
   "execution_count": null,
   "id": "liquid-divide",
   "metadata": {},
   "outputs": [],
   "source": [
    "#Note: else block used in for and while loop\n",
    "       #else block execute only when break statement not execute in loop"
   ]
  },
  {
   "cell_type": "code",
   "execution_count": 57,
   "id": "affecting-underground",
   "metadata": {},
   "outputs": [
    {
     "name": "stdout",
     "output_type": "stream",
     "text": [
      "Processed item are : 10\n",
      "Processed item are : 20\n",
      "Processed item are : 30\n",
      "Insurance needed for this item:  600\n",
      "Out of loop\n"
     ]
    }
   ],
   "source": [
    "#cart=[10,20,30,400,500,600,70,80]\n",
    "cart = [10,20,30,600,40,50]\n",
    "for item in cart:\n",
    "    if item>500:\n",
    "        print('Insurance needed for this item: ',item)\n",
    "        break\n",
    "    else:\n",
    "        print('Processed item are :',item)\n",
    "print('Out of loop')        \n",
    "        "
   ]
  },
  {
   "cell_type": "code",
   "execution_count": 59,
   "id": "surprising-worst",
   "metadata": {},
   "outputs": [
    {
     "name": "stdout",
     "output_type": "stream",
     "text": [
      "Processed item are : 10\n",
      "Processed item are : 20\n",
      "Processed item are : 30\n",
      "Insurance needed for this item:  600\n",
      "Processed item are : 40\n",
      "Processed item are : 50\n",
      "Out of loop\n"
     ]
    }
   ],
   "source": [
    "#cart=[10,20,30,400,500,600,70,80]\n",
    "cart = [10,20,30,600,40,50]\n",
    "for item in cart:\n",
    "    if item>500:\n",
    "        print('Insurance needed for this item: ',item)\n",
    "        continue\n",
    "    else:\n",
    "        print('Processed item are :',item)\n",
    "print('Out of loop')   "
   ]
  },
  {
   "cell_type": "code",
   "execution_count": null,
   "id": "numerous-alliance",
   "metadata": {},
   "outputs": [],
   "source": []
  }
 ],
 "metadata": {
  "kernelspec": {
   "display_name": "Python 3",
   "language": "python",
   "name": "python3"
  },
  "language_info": {
   "codemirror_mode": {
    "name": "ipython",
    "version": 3
   },
   "file_extension": ".py",
   "mimetype": "text/x-python",
   "name": "python",
   "nbconvert_exporter": "python",
   "pygments_lexer": "ipython3",
   "version": "3.9.1"
  }
 },
 "nbformat": 4,
 "nbformat_minor": 5
}
